{
 "cells": [
  {
   "cell_type": "code",
   "execution_count": 1,
   "id": "92b361bb",
   "metadata": {},
   "outputs": [],
   "source": [
    "import pandas as pd\n",
    "import numpy as np\n",
    "import dataframe_image as dfi\n",
    "import matplotlib.pyplot as plt\n",
    "import seaborn as sns\n",
    "import pickle as pk\n",
    "\n",
    "from scipy.stats import shapiro\n",
    "from sklearn.preprocessing import MinMaxScaler\n",
    "from sklearn.model_selection import KFold\n",
    "from sklearn.svm import SVC\n",
    "from sklearn.ensemble import RandomForestClassifier\n",
    "\n",
    "from sklearn.metrics import confusion_matrix, roc_auc_score\n",
    "\n",
    "np.random.seed(7)"
   ]
  },
  {
   "cell_type": "markdown",
   "id": "3e602cd9",
   "metadata": {},
   "source": [
    "https://www.kaggle.com/datasets/fedesoriano/stroke-prediction-dataset?resource=download"
   ]
  },
  {
   "cell_type": "markdown",
   "id": "8e15b01c",
   "metadata": {},
   "source": [
    "## Data pre processing"
   ]
  },
  {
   "cell_type": "markdown",
   "id": "0c20a99d",
   "metadata": {},
   "source": [
    "### Access"
   ]
  },
  {
   "cell_type": "code",
   "execution_count": 2,
   "id": "e4289b8a",
   "metadata": {},
   "outputs": [
    {
     "name": "stderr",
     "output_type": "stream",
     "text": [
      "[0803/155515.523970:WARNING:sandbox_linux.cc(376)] InitializeSandbox() called with multiple threads in process gpu-process.\n",
      "[0803/155515.642555:WARNING:bluez_dbus_manager.cc(247)] Floss manager not present, cannot set Floss enable/disable.\n",
      "[0803/155515.857872:INFO:headless_shell.cc(660)] Written to file /tmp/tmpm8bu1fzz/temp.png.\n"
     ]
    }
   ],
   "source": [
    "data = pd.read_csv('dataset.csv').drop('id', axis=1)\n",
    "data.head(3)\n",
    "dfi.export(data.head(), 'Images/data_original.jpeg')"
   ]
  },
  {
   "cell_type": "markdown",
   "id": "467ee9f0",
   "metadata": {},
   "source": [
    "### Target balancement "
   ]
  },
  {
   "cell_type": "code",
   "execution_count": 3,
   "id": "f2eda5c0",
   "metadata": {},
   "outputs": [
    {
     "data": {
      "text/plain": [
       "0    4861\n",
       "1     249\n",
       "Name: stroke, dtype: int64"
      ]
     },
     "execution_count": 3,
     "metadata": {},
     "output_type": "execute_result"
    }
   ],
   "source": [
    "data['stroke'].value_counts()"
   ]
  },
  {
   "cell_type": "code",
   "execution_count": 4,
   "id": "98a5f07c",
   "metadata": {},
   "outputs": [
    {
     "data": {
      "text/plain": [
       "0    251\n",
       "1    249\n",
       "Name: stroke, dtype: int64"
      ]
     },
     "metadata": {},
     "output_type": "display_data"
    }
   ],
   "source": [
    "n = data.query('stroke == 1').shape[0]\n",
    "\n",
    "i = data.query('stroke == 0').index\n",
    "i_sampled = np.random.choice(i, n+2)\n",
    "\n",
    "data = pd.concat([data.query('stroke == 1'), data.loc[i_sampled]], axis=0).sort_index()\n",
    "display(data['stroke'].value_counts())"
   ]
  },
  {
   "cell_type": "markdown",
   "id": "e33ed5e8",
   "metadata": {},
   "source": [
    "### Format correction"
   ]
  },
  {
   "cell_type": "code",
   "execution_count": 5,
   "id": "223de1a2",
   "metadata": {},
   "outputs": [],
   "source": [
    "#variavel 'id' foi desconsiderada\n",
    "qualitatives = ['gender', 'hypertension', 'heart_disease', 'ever_married',\n",
    "                'work_type', 'Residence_type', 'smoking_status', 'stroke']\n",
    "\n",
    "quantitatives = ['age', 'avg_glucose_level', 'bmi']"
   ]
  },
  {
   "cell_type": "code",
   "execution_count": 6,
   "id": "4694eb40",
   "metadata": {},
   "outputs": [
    {
     "name": "stdout",
     "output_type": "stream",
     "text": [
      "<class 'pandas.core.frame.DataFrame'>\n",
      "Int64Index: 500 entries, 0 to 5108\n",
      "Data columns (total 8 columns):\n",
      " #   Column          Non-Null Count  Dtype \n",
      "---  ------          --------------  ----- \n",
      " 0   gender          500 non-null    object\n",
      " 1   hypertension    500 non-null    int64 \n",
      " 2   heart_disease   500 non-null    int64 \n",
      " 3   ever_married    500 non-null    object\n",
      " 4   work_type       500 non-null    object\n",
      " 5   Residence_type  500 non-null    object\n",
      " 6   smoking_status  500 non-null    object\n",
      " 7   stroke          500 non-null    int64 \n",
      "dtypes: int64(3), object(5)\n",
      "memory usage: 35.2+ KB\n"
     ]
    }
   ],
   "source": [
    "data[qualitatives].info()"
   ]
  },
  {
   "cell_type": "code",
   "execution_count": 7,
   "id": "3013606e",
   "metadata": {
    "scrolled": true
   },
   "outputs": [
    {
     "name": "stdout",
     "output_type": "stream",
     "text": [
      "<class 'pandas.core.frame.DataFrame'>\n",
      "Int64Index: 500 entries, 0 to 5108\n",
      "Data columns (total 3 columns):\n",
      " #   Column             Non-Null Count  Dtype  \n",
      "---  ------             --------------  -----  \n",
      " 0   age                500 non-null    float64\n",
      " 1   avg_glucose_level  500 non-null    float64\n",
      " 2   bmi                454 non-null    float64\n",
      "dtypes: float64(3)\n",
      "memory usage: 15.6 KB\n"
     ]
    }
   ],
   "source": [
    "data[quantitatives].info()"
   ]
  },
  {
   "cell_type": "code",
   "execution_count": 8,
   "id": "b2d32da0",
   "metadata": {},
   "outputs": [],
   "source": [
    "#Substituição de Male por 1 e rename\n",
    "data['gender'] = data['gender'].apply(lambda x:1 if x == 'Male' else 0)\n",
    "data.rename({'gender':'Male'}, axis=1, inplace=True)"
   ]
  },
  {
   "cell_type": "code",
   "execution_count": 9,
   "id": "f843a741",
   "metadata": {},
   "outputs": [],
   "source": [
    "#Substituição de Yes por 1\n",
    "data['ever_married'] = data['ever_married'].apply(lambda x:1 if x == 'Yes' else 0)"
   ]
  },
  {
   "cell_type": "code",
   "execution_count": 10,
   "id": "fb4029f9",
   "metadata": {},
   "outputs": [],
   "source": [
    "#Substituição de Urban por 1 e rename\n",
    "data['Residence_type'] = data['Residence_type'].apply(lambda x:1 if x == 'Urban' else 0)\n",
    "data.rename({'Residence_type':'Residence_type_urban'}, axis=1, inplace=True)"
   ]
  },
  {
   "cell_type": "code",
   "execution_count": 11,
   "id": "4135a6a8",
   "metadata": {},
   "outputs": [],
   "source": [
    "#Extração de novas colunas apartir dos diferentes possíveis valores. Exclusão de children\n",
    "data = pd.concat([data.drop('work_type', axis=1), \n",
    "                  pd.get_dummies(data['work_type']).drop('children', axis=1)], axis=1)\n",
    "data.rename({'Private':'Private_job'}, axis=1,inplace=True)"
   ]
  },
  {
   "cell_type": "code",
   "execution_count": 12,
   "id": "23c7a333",
   "metadata": {},
   "outputs": [],
   "source": [
    "#Extração de novas colunas apartir dos diferentes possíveis valores. Exclusão de Unknown\n",
    "data = pd.concat([data.drop('smoking_status', axis=1), \n",
    "                  pd.get_dummies(data['smoking_status']).drop('Unknown', axis=1)], axis=1)"
   ]
  },
  {
   "cell_type": "markdown",
   "id": "e37efa97",
   "metadata": {},
   "source": [
    "### Missing values correction"
   ]
  },
  {
   "cell_type": "code",
   "execution_count": 13,
   "id": "d582c245",
   "metadata": {},
   "outputs": [
    {
     "name": "stdout",
     "output_type": "stream",
     "text": [
      "<class 'pandas.core.frame.DataFrame'>\n",
      "Int64Index: 500 entries, 0 to 5108\n",
      "Data columns (total 15 columns):\n",
      " #   Column                Non-Null Count  Dtype  \n",
      "---  ------                --------------  -----  \n",
      " 0   Male                  500 non-null    int64  \n",
      " 1   age                   500 non-null    float64\n",
      " 2   hypertension          500 non-null    int64  \n",
      " 3   heart_disease         500 non-null    int64  \n",
      " 4   ever_married          500 non-null    int64  \n",
      " 5   Residence_type_urban  500 non-null    int64  \n",
      " 6   avg_glucose_level     500 non-null    float64\n",
      " 7   bmi                   454 non-null    float64\n",
      " 8   stroke                500 non-null    int64  \n",
      " 9   Govt_job              500 non-null    uint8  \n",
      " 10  Private_job           500 non-null    uint8  \n",
      " 11  Self-employed         500 non-null    uint8  \n",
      " 12  formerly smoked       500 non-null    uint8  \n",
      " 13  never smoked          500 non-null    uint8  \n",
      " 14  smokes                500 non-null    uint8  \n",
      "dtypes: float64(3), int64(6), uint8(6)\n",
      "memory usage: 42.0 KB\n"
     ]
    }
   ],
   "source": [
    "data.info()"
   ]
  },
  {
   "cell_type": "code",
   "execution_count": 14,
   "id": "8e0c12bd",
   "metadata": {},
   "outputs": [],
   "source": [
    "stroke = data.query('stroke == 1')\n",
    "not_stroke = data.query('stroke == 0')"
   ]
  },
  {
   "cell_type": "code",
   "execution_count": 15,
   "id": "37803919",
   "metadata": {},
   "outputs": [
    {
     "data": {
      "text/html": [
       "<div>\n",
       "<style scoped>\n",
       "    .dataframe tbody tr th:only-of-type {\n",
       "        vertical-align: middle;\n",
       "    }\n",
       "\n",
       "    .dataframe tbody tr th {\n",
       "        vertical-align: top;\n",
       "    }\n",
       "\n",
       "    .dataframe thead th {\n",
       "        text-align: right;\n",
       "    }\n",
       "</style>\n",
       "<table border=\"1\" class=\"dataframe\">\n",
       "  <thead>\n",
       "    <tr style=\"text-align: right;\">\n",
       "      <th></th>\n",
       "      <th>bmi</th>\n",
       "    </tr>\n",
       "  </thead>\n",
       "  <tbody>\n",
       "    <tr>\n",
       "      <th>False</th>\n",
       "      <td>209</td>\n",
       "    </tr>\n",
       "    <tr>\n",
       "      <th>True</th>\n",
       "      <td>40</td>\n",
       "    </tr>\n",
       "  </tbody>\n",
       "</table>\n",
       "</div>"
      ],
      "text/plain": [
       "       bmi\n",
       "False  209\n",
       "True    40"
      ]
     },
     "execution_count": 15,
     "metadata": {},
     "output_type": "execute_result"
    }
   ],
   "source": [
    "stroke['bmi'].isnull().value_counts(normalize=False).to_frame()"
   ]
  },
  {
   "cell_type": "code",
   "execution_count": 16,
   "id": "e3c27e4d",
   "metadata": {},
   "outputs": [
    {
     "data": {
      "text/html": [
       "<div>\n",
       "<style scoped>\n",
       "    .dataframe tbody tr th:only-of-type {\n",
       "        vertical-align: middle;\n",
       "    }\n",
       "\n",
       "    .dataframe tbody tr th {\n",
       "        vertical-align: top;\n",
       "    }\n",
       "\n",
       "    .dataframe thead th {\n",
       "        text-align: right;\n",
       "    }\n",
       "</style>\n",
       "<table border=\"1\" class=\"dataframe\">\n",
       "  <thead>\n",
       "    <tr style=\"text-align: right;\">\n",
       "      <th></th>\n",
       "      <th>bmi</th>\n",
       "    </tr>\n",
       "  </thead>\n",
       "  <tbody>\n",
       "    <tr>\n",
       "      <th>False</th>\n",
       "      <td>245</td>\n",
       "    </tr>\n",
       "    <tr>\n",
       "      <th>True</th>\n",
       "      <td>6</td>\n",
       "    </tr>\n",
       "  </tbody>\n",
       "</table>\n",
       "</div>"
      ],
      "text/plain": [
       "       bmi\n",
       "False  245\n",
       "True     6"
      ]
     },
     "execution_count": 16,
     "metadata": {},
     "output_type": "execute_result"
    }
   ],
   "source": [
    "not_stroke['bmi'].isnull().value_counts(normalize=False).to_frame()"
   ]
  },
  {
   "cell_type": "code",
   "execution_count": 17,
   "id": "02721473",
   "metadata": {},
   "outputs": [
    {
     "name": "stderr",
     "output_type": "stream",
     "text": [
      "/tmp/ipykernel_7918/2437693244.py:2: SettingWithCopyWarning: \n",
      "A value is trying to be set on a copy of a slice from a DataFrame\n",
      "\n",
      "See the caveats in the documentation: https://pandas.pydata.org/pandas-docs/stable/user_guide/indexing.html#returning-a-view-versus-a-copy\n",
      "  stroke['bmi'].fillna(median, inplace=True)\n",
      "/tmp/ipykernel_7918/2437693244.py:5: SettingWithCopyWarning: \n",
      "A value is trying to be set on a copy of a slice from a DataFrame\n",
      "\n",
      "See the caveats in the documentation: https://pandas.pydata.org/pandas-docs/stable/user_guide/indexing.html#returning-a-view-versus-a-copy\n",
      "  not_stroke['bmi'].fillna(median, inplace=True)\n"
     ]
    }
   ],
   "source": [
    "median = stroke['bmi'].median()\n",
    "stroke['bmi'].fillna(median, inplace=True)\n",
    "\n",
    "median = not_stroke['bmi'].median()\n",
    "not_stroke['bmi'].fillna(median, inplace=True)\n",
    "\n",
    "data = pd.concat([stroke, not_stroke], axis=0).sort_index()"
   ]
  },
  {
   "cell_type": "markdown",
   "id": "9f7c83e8",
   "metadata": {},
   "source": [
    "### Outliers detection and treatment"
   ]
  },
  {
   "cell_type": "code",
   "execution_count": 18,
   "id": "dd694dba",
   "metadata": {},
   "outputs": [],
   "source": [
    "sns.set_style('whitegrid')"
   ]
  },
  {
   "cell_type": "code",
   "execution_count": 19,
   "id": "2a378dea",
   "metadata": {},
   "outputs": [
    {
     "data": {
      "image/png": "[encoded data removed]",
      "text/plain": [
       "<Figure size 1008x288 with 3 Axes>"
      ]
     },
     "metadata": {
      "needs_background": "light"
     },
     "output_type": "display_data"
    }
   ],
   "source": [
    "i = 0\n",
    "fig, ax = plt.subplots(1, 3, sharey=True, figsize=(14,4))\n",
    "\n",
    "for column in quantitatives:\n",
    "    ax[i].set_title(column, y=1.05)\n",
    "    data[column].plot(kind='hist', ax=ax[i])\n",
    "    ax[i].set_ylabel('Frequência')\n",
    "    i += 1\n",
    "    \n",
    "plt.savefig('Images/hist_com_anomalias.jpeg', bbox_inches=\"tight\")"
   ]
  },
  {
   "cell_type": "code",
   "execution_count": 20,
   "id": "fc678777",
   "metadata": {},
   "outputs": [
    {
     "data": {
      "image/png": "[encoded data removed]",
      "text/plain": [
       "<Figure size 1008x288 with 3 Axes>"
      ]
     },
     "metadata": {
      "needs_background": "light"
     },
     "output_type": "display_data"
    }
   ],
   "source": [
    "i = 0\n",
    "fig, ax = plt.subplots(1, 3, sharey=False, figsize=(14,4))\n",
    "\n",
    "for column in quantitatives:\n",
    "    ax[i].set_title(column, y=1.05)\n",
    "    data[column].plot(kind='box', ax=ax[i])\n",
    "    i += 1\n",
    "    \n",
    "plt.savefig('Images/box_com_anomalias.jpeg', bbox_inches=\"tight\")"
   ]
  },
  {
   "cell_type": "code",
   "execution_count": 21,
   "id": "0128ab1a",
   "metadata": {},
   "outputs": [],
   "source": [
    "q1 = data['bmi'].quantile(0.25)\n",
    "q3 = data['bmi'].quantile(0.75)\n",
    "\n",
    "IQR = q3 - q1\n",
    "\n",
    "limite_superior = data['bmi'].median() + 1.5*IQR\n",
    "limite_inferior = data['bmi'].median() - 1.5*IQR\n",
    "\n",
    "data['bmi'] = data['bmi'].apply(lambda x:limite_superior if x > limite_superior else x)\n",
    "data['bmi'] = data['bmi'].apply(lambda x:limite_inferior if x < limite_inferior else x)"
   ]
  },
  {
   "cell_type": "code",
   "execution_count": 22,
   "id": "f7c64333",
   "metadata": {},
   "outputs": [
    {
     "data": {
      "image/png": "[encoded data removed]",
      "text/plain": [
       "<Figure size 1008x288 with 3 Axes>"
      ]
     },
     "metadata": {
      "needs_background": "light"
     },
     "output_type": "display_data"
    }
   ],
   "source": [
    "i = 0\n",
    "fig, ax = plt.subplots(1, 3, sharey=False, figsize=(14,4))\n",
    "\n",
    "for column in quantitatives:\n",
    "    ax[i].set_title(column, y=1.05)\n",
    "    data[column].plot(kind='box', ax=ax[i])\n",
    "    i += 1\n",
    "    \n",
    "plt.savefig('Images/hist_sem_anomalias.jpeg', bbox_inches=\"tight\")"
   ]
  },
  {
   "cell_type": "markdown",
   "id": "a66f6409",
   "metadata": {},
   "source": [
    "### Normal curve verifying"
   ]
  },
  {
   "cell_type": "code",
   "execution_count": 23,
   "id": "0ab8dcf3",
   "metadata": {},
   "outputs": [
    {
     "name": "stdout",
     "output_type": "stream",
     "text": [
      "\n",
      " age ShapiroResult(statistic=0.9184489250183105, pvalue=8.537557418775393e-16)\n",
      "\n",
      " avg_glucose_level ShapiroResult(statistic=0.8474879860877991, pvalue=1.4570601707343144e-21)\n",
      "\n",
      " bmi ShapiroResult(statistic=0.972310483455658, pvalue=4.061904590457743e-08)\n"
     ]
    }
   ],
   "source": [
    "for column in quantitatives:\n",
    "    print('\\n', column, shapiro(data[column]))"
   ]
  },
  {
   "cell_type": "markdown",
   "id": "3b8b3c42",
   "metadata": {},
   "source": [
    "Não se pode assumir normalidade nas variáveis quantitativas."
   ]
  },
  {
   "cell_type": "code",
   "execution_count": 24,
   "id": "c7302298",
   "metadata": {},
   "outputs": [
    {
     "name": "stderr",
     "output_type": "stream",
     "text": [
      "[0803/155522.399822:WARNING:sandbox_linux.cc(376)] InitializeSandbox() called with multiple threads in process gpu-process.\n",
      "[0803/155522.627381:WARNING:bluez_dbus_manager.cc(247)] Floss manager not present, cannot set Floss enable/disable.\n",
      "[0803/155522.840886:INFO:headless_shell.cc(660)] Written to file /tmp/tmpvpoqv7uj/temp.png.\n",
      "[0803/155523.007358:WARNING:sandbox_linux.cc(376)] InitializeSandbox() called with multiple threads in process gpu-process.\n",
      "[0803/155523.259825:WARNING:bluez_dbus_manager.cc(247)] Floss manager not present, cannot set Floss enable/disable.\n",
      "[0803/155523.488085:INFO:headless_shell.cc(660)] Written to file /tmp/tmpwtyexk5a/temp.png.\n"
     ]
    }
   ],
   "source": [
    "dfi.export(data.head(), 'Images/data_mod.jpeg')"
   ]
  },
  {
   "cell_type": "markdown",
   "id": "a58965b2",
   "metadata": {},
   "source": [
    "## Processing"
   ]
  },
  {
   "cell_type": "markdown",
   "id": "1b4aedcd",
   "metadata": {},
   "source": [
    "### scaling data"
   ]
  },
  {
   "cell_type": "code",
   "execution_count": 25,
   "id": "1030886e",
   "metadata": {},
   "outputs": [],
   "source": [
    "min_max_scaler = MinMaxScaler()\n",
    "data[quantitatives] = min_max_scaler.fit_transform(data[quantitatives]) "
   ]
  },
  {
   "cell_type": "markdown",
   "id": "f97a0e0a",
   "metadata": {},
   "source": [
    "### Splitting"
   ]
  },
  {
   "cell_type": "code",
   "execution_count": 26,
   "id": "0927bf89",
   "metadata": {},
   "outputs": [],
   "source": [
    "X = data.drop('stroke', axis=1)\n",
    "y = data['stroke']"
   ]
  },
  {
   "cell_type": "markdown",
   "id": "c52adb1e",
   "metadata": {},
   "source": [
    "### Modeling"
   ]
  },
  {
   "cell_type": "markdown",
   "id": "37c571c5",
   "metadata": {},
   "source": [
    "#### SVC"
   ]
  },
  {
   "cell_type": "code",
   "execution_count": 27,
   "id": "8d175095",
   "metadata": {},
   "outputs": [
    {
     "name": "stdout",
     "output_type": "stream",
     "text": [
      "Taxa de acertos: 77.00% +- 5.32%\n",
      "Taxa de falsos positivos: 15.40% +- 2.15%\n",
      "Taxa de falsos negativos: 7.60% +- 3.20%\n",
      "ROC Score: 0.83 +- 0.02\n"
     ]
    }
   ],
   "source": [
    "kf = KFold(shuffle=True, random_state=7)\n",
    "\n",
    "falsos_positivos = []\n",
    "falsos_negativos = []\n",
    "verdadeiros_positivos = []\n",
    "verdadeiros_negativos = []\n",
    "rocs = []\n",
    "\n",
    "for train_index, test_index in kf.split(X):\n",
    "    X_train, y_train = X.iloc[train_index], y.iloc[train_index]\n",
    "    X_test, y_test = X.iloc[test_index], y.iloc[test_index]\n",
    "    \n",
    "    svc_model = SVC(random_state=7, probability=True)\n",
    "    svc_model.fit(X_train, y_train)\n",
    "    \n",
    "    rocs.append(roc_auc_score(y_true=y_test, y_score=svc_model.predict_proba(X_test)[:, 1]))\n",
    "    \n",
    "    cm = confusion_matrix(y_test, svc_model.predict(X_test))\n",
    "    \n",
    "    total = cm[0][0] + cm[0][1] + cm[1][0] + cm[1][1]\n",
    "    \n",
    "    falso_positivo = cm[0][1] / total\n",
    "    falsos_positivos.append(falso_positivo)\n",
    "    \n",
    "    falso_negativo = cm[1][0] / total\n",
    "    falsos_negativos.append(falso_negativo)\n",
    "    \n",
    "    verdadeiro_positivo = cm[1][1] / total\n",
    "    verdadeiros_positivos.append(verdadeiro_positivo)\n",
    "    \n",
    "    verdadeiro_negativo = cm[0][0] / total\n",
    "    verdadeiros_negativos.append(verdadeiro_negativo)\n",
    "    \n",
    "falsos_positivos = np.array(falsos_positivos)\n",
    "falsos_negativos = np.array(falsos_negativos)\n",
    "verdadeiros_positivos = np.array(verdadeiros_positivos)\n",
    "verdadeiros_negativos = np.array(verdadeiros_negativos)\n",
    "rocs = np.array(rocs)\n",
    "\n",
    "print('Taxa de acertos: %.2f%% +- %.2f%%' % (verdadeiros_positivos.mean()*100 + verdadeiros_negativos.mean()*100, \n",
    "                                             verdadeiros_positivos.std()*100 + verdadeiros_negativos.std()*100))\n",
    "\n",
    "print('Taxa de falsos positivos: %.2f%% +- %.2f%%' % (falsos_positivos.mean()*100, falsos_positivos.std()*100))\n",
    "print('Taxa de falsos negativos: %.2f%% +- %.2f%%' % (falsos_negativos.mean()*100, falsos_negativos.std()*100))\n",
    "\n",
    "print('ROC Score: %.2f +- %.2f' % (rocs.mean(), rocs.std()))"
   ]
  },
  {
   "cell_type": "markdown",
   "id": "dc92d879",
   "metadata": {},
   "source": [
    "#### Random Forest Classifer"
   ]
  },
  {
   "cell_type": "code",
   "execution_count": 28,
   "id": "067cb381",
   "metadata": {},
   "outputs": [
    {
     "name": "stdout",
     "output_type": "stream",
     "text": [
      "Taxa de acertos: 79.00% +- 6.89%\n",
      "Taxa de falsos positivos: 13.00% +- 3.22%\n",
      "Taxa de falsos negativos: 8.00% +- 1.79%\n",
      "ROC Score: 0.85 +- 0.03\n"
     ]
    }
   ],
   "source": [
    "kf = KFold(shuffle=True, random_state=7)\n",
    "\n",
    "falsos_positivos = []\n",
    "falsos_negativos = []\n",
    "verdadeiros_positivos = []\n",
    "verdadeiros_negativos = []\n",
    "rocs = []\n",
    "\n",
    "for train_index, test_index in kf.split(X):\n",
    "    X_train, y_train = X.iloc[train_index], y.iloc[train_index]\n",
    "    X_test, y_test = X.iloc[test_index], y.iloc[test_index]\n",
    "    \n",
    "    forest_model = RandomForestClassifier(random_state=7)\n",
    "    forest_model.fit(X_train, y_train)\n",
    "    \n",
    "    rocs.append(roc_auc_score(y_true=y_test, y_score=forest_model.predict_proba(X_test)[:, 1]))\n",
    "    \n",
    "    cm = confusion_matrix(y_test, forest_model.predict(X_test))\n",
    "    \n",
    "    total = cm[0][0] + cm[0][1] + cm[1][0] + cm[1][1]\n",
    "    \n",
    "    falso_positivo = cm[0][1] / total\n",
    "    falsos_positivos.append(falso_positivo)\n",
    "    \n",
    "    falso_negativo = cm[1][0] / total\n",
    "    falsos_negativos.append(falso_negativo)\n",
    "    \n",
    "    verdadeiro_positivo = cm[1][1] / total\n",
    "    verdadeiros_positivos.append(verdadeiro_positivo)\n",
    "    \n",
    "    verdadeiro_negativo = cm[0][0] / total\n",
    "    verdadeiros_negativos.append(verdadeiro_negativo)\n",
    "    \n",
    "falsos_positivos = np.array(falsos_positivos)\n",
    "falsos_negativos = np.array(falsos_negativos)\n",
    "verdadeiros_positivos = np.array(verdadeiros_positivos)\n",
    "verdadeiros_negativos = np.array(verdadeiros_negativos)\n",
    "rocs = np.array(rocs)\n",
    "\n",
    "print('Taxa de acertos: %.2f%% +- %.2f%%' % (verdadeiros_positivos.mean()*100 + verdadeiros_negativos.mean()*100, \n",
    "                                             verdadeiros_positivos.std()*100 + verdadeiros_negativos.std()*100))\n",
    "\n",
    "print('Taxa de falsos positivos: %.2f%% +- %.2f%%' % (falsos_positivos.mean()*100, falsos_positivos.std()*100))\n",
    "print('Taxa de falsos negativos: %.2f%% +- %.2f%%' % (falsos_negativos.mean()*100, falsos_negativos.std()*100))\n",
    "\n",
    "print('ROC Score: %.2f +- %.2f' % (rocs.mean(), rocs.std()))"
   ]
  },
  {
   "cell_type": "code",
   "execution_count": 29,
   "id": "1e1297b6",
   "metadata": {},
   "outputs": [],
   "source": [
    "# Taxa de acertos: 77.00% +- 5.32%\n",
    "# Taxa de falsos positivos: 15.40% +- 2.15%\n",
    "# Taxa de falsos negativos: 7.60% +- 3.20%\n",
    "# ROC Score: 0.83 +- 0.02\n",
    "    \n",
    "# Taxa de acertos: 79.00% +- 7.00%\n",
    "# Taxa de falsos positivos: 12.80% +- 3.25%\n",
    "# Taxa de falsos negativos: 8.20% +- 1.94%\n",
    "# ROC Score: 0.85 +- 0.03"
   ]
  },
  {
   "cell_type": "markdown",
   "id": "e57bf99c",
   "metadata": {},
   "source": [
    "### Saving models and scaler"
   ]
  },
  {
   "cell_type": "code",
   "execution_count": 30,
   "id": "a1440c5e",
   "metadata": {},
   "outputs": [],
   "source": [
    "file = open('Models/scaler.pk', 'wb')\n",
    "pk.dump(min_max_scaler, file)\n",
    "file.close()\n",
    "\n",
    "file = open('Models/random_forest_classifier.pk', 'wb')\n",
    "pk.dump(forest_model, file)\n",
    "file.close()\n",
    "\n",
    "file = open('Models/svc_classifier.pk', 'wb')\n",
    "pk.dump(svc_model, file)\n",
    "file.close()"
   ]
  }
 ],
 "metadata": {
  "kernelspec": {
   "display_name": "Python 3 (ipykernel)",
   "language": "python",
   "name": "python3"
  },
  "language_info": {
   "codemirror_mode": {
    "name": "ipython",
    "version": 3
   },
   "file_extension": ".py",
   "mimetype": "text/x-python",
   "name": "python",
   "nbconvert_exporter": "python",
   "pygments_lexer": "ipython3",
   "version": "3.9.12"
  }
 },
 "nbformat": 4,
 "nbformat_minor": 5
}
