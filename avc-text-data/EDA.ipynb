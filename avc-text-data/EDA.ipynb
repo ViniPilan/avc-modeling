{
 "cells": [
  {
   "cell_type": "code",
   "execution_count": 1,
   "id": "fba2c9a3",
   "metadata": {},
   "outputs": [],
   "source": [
    "import numpy as np\n",
    "import pandas as pd\n",
    "\n",
    "import matplotlib.pyplot as plt\n",
    "import seaborn as sns\n",
    "\n",
    "from scipy.stats import shapiro\n",
    "\n",
    "from sklearn.preprocessing import StandardScaler, MinMaxScaler\n",
    "from sklearn.model_selection import train_test_split, KFold\n",
    "from sklearn.linear_model import LogisticRegression\n",
    "from sklearn.ensemble import RandomForestClassifier\n",
    "\n",
    "from sklearn.metrics import confusion_matrix, accuracy_score\n",
    "\n",
    "np.random.seed(7)"
   ]
  },
  {
   "cell_type": "markdown",
   "id": "20c2f1e3",
   "metadata": {},
   "source": [
    "https://www.kaggle.com/datasets/fedesoriano/stroke-prediction-dataset\n",
    "\n",
    "- documentar\n",
    "- resolver outliers\n",
    "- resolver o replace de null values de bmi\n",
    "- analisar correlações\n",
    "- avaliar desempenho dos modelos (com gráficos e obs)"
   ]
  },
  {
   "cell_type": "code",
   "execution_count": 2,
   "id": "16799a90",
   "metadata": {
    "scrolled": true
   },
   "outputs": [
    {
     "data": {
      "text/html": [
       "<div>\n",
       "<style scoped>\n",
       "    .dataframe tbody tr th:only-of-type {\n",
       "        vertical-align: middle;\n",
       "    }\n",
       "\n",
       "    .dataframe tbody tr th {\n",
       "        vertical-align: top;\n",
       "    }\n",
       "\n",
       "    .dataframe thead th {\n",
       "        text-align: right;\n",
       "    }\n",
       "</style>\n",
       "<table border=\"1\" class=\"dataframe\">\n",
       "  <thead>\n",
       "    <tr style=\"text-align: right;\">\n",
       "      <th></th>\n",
       "      <th>id</th>\n",
       "      <th>gender</th>\n",
       "      <th>age</th>\n",
       "      <th>hypertension</th>\n",
       "      <th>heart_disease</th>\n",
       "      <th>ever_married</th>\n",
       "      <th>work_type</th>\n",
       "      <th>Residence_type</th>\n",
       "      <th>avg_glucose_level</th>\n",
       "      <th>bmi</th>\n",
       "      <th>smoking_status</th>\n",
       "      <th>stroke</th>\n",
       "    </tr>\n",
       "  </thead>\n",
       "  <tbody>\n",
       "    <tr>\n",
       "      <th>0</th>\n",
       "      <td>9046</td>\n",
       "      <td>Male</td>\n",
       "      <td>67.0</td>\n",
       "      <td>0</td>\n",
       "      <td>1</td>\n",
       "      <td>Yes</td>\n",
       "      <td>Private</td>\n",
       "      <td>Urban</td>\n",
       "      <td>228.69</td>\n",
       "      <td>36.6</td>\n",
       "      <td>formerly smoked</td>\n",
       "      <td>1</td>\n",
       "    </tr>\n",
       "    <tr>\n",
       "      <th>1</th>\n",
       "      <td>51676</td>\n",
       "      <td>Female</td>\n",
       "      <td>61.0</td>\n",
       "      <td>0</td>\n",
       "      <td>0</td>\n",
       "      <td>Yes</td>\n",
       "      <td>Self-employed</td>\n",
       "      <td>Rural</td>\n",
       "      <td>202.21</td>\n",
       "      <td>NaN</td>\n",
       "      <td>never smoked</td>\n",
       "      <td>1</td>\n",
       "    </tr>\n",
       "    <tr>\n",
       "      <th>2</th>\n",
       "      <td>31112</td>\n",
       "      <td>Male</td>\n",
       "      <td>80.0</td>\n",
       "      <td>0</td>\n",
       "      <td>1</td>\n",
       "      <td>Yes</td>\n",
       "      <td>Private</td>\n",
       "      <td>Rural</td>\n",
       "      <td>105.92</td>\n",
       "      <td>32.5</td>\n",
       "      <td>never smoked</td>\n",
       "      <td>1</td>\n",
       "    </tr>\n",
       "  </tbody>\n",
       "</table>\n",
       "</div>"
      ],
      "text/plain": [
       "      id  gender   age  hypertension  heart_disease ever_married  \\\n",
       "0   9046    Male  67.0             0              1          Yes   \n",
       "1  51676  Female  61.0             0              0          Yes   \n",
       "2  31112    Male  80.0             0              1          Yes   \n",
       "\n",
       "       work_type Residence_type  avg_glucose_level   bmi   smoking_status  \\\n",
       "0        Private          Urban             228.69  36.6  formerly smoked   \n",
       "1  Self-employed          Rural             202.21   NaN     never smoked   \n",
       "2        Private          Rural             105.92  32.5     never smoked   \n",
       "\n",
       "   stroke  \n",
       "0       1  \n",
       "1       1  \n",
       "2       1  "
      ]
     },
     "execution_count": 2,
     "metadata": {},
     "output_type": "execute_result"
    }
   ],
   "source": [
    "data = pd.read_csv('archive.zip')\n",
    "data.head(3)"
   ]
  },
  {
   "cell_type": "code",
   "execution_count": 3,
   "id": "4cac5302",
   "metadata": {},
   "outputs": [
    {
     "data": {
      "text/html": [
       "<div>\n",
       "<style scoped>\n",
       "    .dataframe tbody tr th:only-of-type {\n",
       "        vertical-align: middle;\n",
       "    }\n",
       "\n",
       "    .dataframe tbody tr th {\n",
       "        vertical-align: top;\n",
       "    }\n",
       "\n",
       "    .dataframe thead th {\n",
       "        text-align: right;\n",
       "    }\n",
       "</style>\n",
       "<table border=\"1\" class=\"dataframe\">\n",
       "  <thead>\n",
       "    <tr style=\"text-align: right;\">\n",
       "      <th></th>\n",
       "      <th>stroke</th>\n",
       "    </tr>\n",
       "  </thead>\n",
       "  <tbody>\n",
       "    <tr>\n",
       "      <th>0</th>\n",
       "      <td>4861</td>\n",
       "    </tr>\n",
       "    <tr>\n",
       "      <th>1</th>\n",
       "      <td>249</td>\n",
       "    </tr>\n",
       "  </tbody>\n",
       "</table>\n",
       "</div>"
      ],
      "text/plain": [
       "   stroke\n",
       "0    4861\n",
       "1     249"
      ]
     },
     "execution_count": 3,
     "metadata": {},
     "output_type": "execute_result"
    }
   ],
   "source": [
    "data['stroke'].value_counts().to_frame()"
   ]
  },
  {
   "cell_type": "code",
   "execution_count": 4,
   "id": "12a47775",
   "metadata": {},
   "outputs": [],
   "source": [
    "i = data.query('stroke == 0 and work_type != \"children\"').dropna(how='any', axis=0).index\n",
    "n = data.query('stroke == 1').shape[0]+2\n",
    "\n",
    "i_sampled = np.random.choice(i, n)\n",
    "\n",
    "data = pd.concat([data.loc[i_sampled], data.query('stroke == 1')], axis=0).sort_index()"
   ]
  },
  {
   "cell_type": "code",
   "execution_count": 5,
   "id": "bf92907c",
   "metadata": {},
   "outputs": [],
   "source": [
    "quantitative = ['age', 'avg_glucose_level', 'bmi']\n",
    "qualitative = ['gender', 'hypertension', 'heart_disease', 'ever_married', \n",
    "               'work_type', 'Residence_type', 'smoking_status','stroke']"
   ]
  },
  {
   "cell_type": "code",
   "execution_count": 6,
   "id": "04173699",
   "metadata": {},
   "outputs": [
    {
     "name": "stdout",
     "output_type": "stream",
     "text": [
      "<class 'pandas.core.frame.DataFrame'>\n",
      "Int64Index: 500 entries, 0 to 5091\n",
      "Data columns (total 3 columns):\n",
      " #   Column             Non-Null Count  Dtype  \n",
      "---  ------             --------------  -----  \n",
      " 0   age                500 non-null    float64\n",
      " 1   avg_glucose_level  500 non-null    float64\n",
      " 2   bmi                460 non-null    float64\n",
      "dtypes: float64(3)\n",
      "memory usage: 15.6 KB\n"
     ]
    }
   ],
   "source": [
    "data[quantitative].info()"
   ]
  },
  {
   "cell_type": "code",
   "execution_count": 7,
   "id": "98d9c2ed",
   "metadata": {
    "scrolled": true
   },
   "outputs": [
    {
     "name": "stdout",
     "output_type": "stream",
     "text": [
      "<class 'pandas.core.frame.DataFrame'>\n",
      "Int64Index: 500 entries, 0 to 5091\n",
      "Data columns (total 8 columns):\n",
      " #   Column          Non-Null Count  Dtype \n",
      "---  ------          --------------  ----- \n",
      " 0   gender          500 non-null    object\n",
      " 1   hypertension    500 non-null    int64 \n",
      " 2   heart_disease   500 non-null    int64 \n",
      " 3   ever_married    500 non-null    object\n",
      " 4   work_type       500 non-null    object\n",
      " 5   Residence_type  500 non-null    object\n",
      " 6   smoking_status  500 non-null    object\n",
      " 7   stroke          500 non-null    int64 \n",
      "dtypes: int64(3), object(5)\n",
      "memory usage: 35.2+ KB\n"
     ]
    }
   ],
   "source": [
    "data[qualitative].info()"
   ]
  },
  {
   "cell_type": "code",
   "execution_count": 8,
   "id": "7e6fdf1b",
   "metadata": {
    "scrolled": true
   },
   "outputs": [
    {
     "data": {
      "text/html": [
       "<div>\n",
       "<style scoped>\n",
       "    .dataframe tbody tr th:only-of-type {\n",
       "        vertical-align: middle;\n",
       "    }\n",
       "\n",
       "    .dataframe tbody tr th {\n",
       "        vertical-align: top;\n",
       "    }\n",
       "\n",
       "    .dataframe thead th {\n",
       "        text-align: right;\n",
       "    }\n",
       "</style>\n",
       "<table border=\"1\" class=\"dataframe\">\n",
       "  <thead>\n",
       "    <tr style=\"text-align: right;\">\n",
       "      <th></th>\n",
       "      <th>gender</th>\n",
       "    </tr>\n",
       "  </thead>\n",
       "  <tbody>\n",
       "    <tr>\n",
       "      <th>Female</th>\n",
       "      <td>292</td>\n",
       "    </tr>\n",
       "    <tr>\n",
       "      <th>Male</th>\n",
       "      <td>208</td>\n",
       "    </tr>\n",
       "  </tbody>\n",
       "</table>\n",
       "</div>"
      ],
      "text/plain": [
       "        gender\n",
       "Female     292\n",
       "Male       208"
      ]
     },
     "metadata": {},
     "output_type": "display_data"
    },
    {
     "data": {
      "text/html": [
       "<div>\n",
       "<style scoped>\n",
       "    .dataframe tbody tr th:only-of-type {\n",
       "        vertical-align: middle;\n",
       "    }\n",
       "\n",
       "    .dataframe tbody tr th {\n",
       "        vertical-align: top;\n",
       "    }\n",
       "\n",
       "    .dataframe thead th {\n",
       "        text-align: right;\n",
       "    }\n",
       "</style>\n",
       "<table border=\"1\" class=\"dataframe\">\n",
       "  <thead>\n",
       "    <tr style=\"text-align: right;\">\n",
       "      <th></th>\n",
       "      <th>hypertension</th>\n",
       "    </tr>\n",
       "  </thead>\n",
       "  <tbody>\n",
       "    <tr>\n",
       "      <th>0</th>\n",
       "      <td>409</td>\n",
       "    </tr>\n",
       "    <tr>\n",
       "      <th>1</th>\n",
       "      <td>91</td>\n",
       "    </tr>\n",
       "  </tbody>\n",
       "</table>\n",
       "</div>"
      ],
      "text/plain": [
       "   hypertension\n",
       "0           409\n",
       "1            91"
      ]
     },
     "metadata": {},
     "output_type": "display_data"
    },
    {
     "data": {
      "text/html": [
       "<div>\n",
       "<style scoped>\n",
       "    .dataframe tbody tr th:only-of-type {\n",
       "        vertical-align: middle;\n",
       "    }\n",
       "\n",
       "    .dataframe tbody tr th {\n",
       "        vertical-align: top;\n",
       "    }\n",
       "\n",
       "    .dataframe thead th {\n",
       "        text-align: right;\n",
       "    }\n",
       "</style>\n",
       "<table border=\"1\" class=\"dataframe\">\n",
       "  <thead>\n",
       "    <tr style=\"text-align: right;\">\n",
       "      <th></th>\n",
       "      <th>heart_disease</th>\n",
       "    </tr>\n",
       "  </thead>\n",
       "  <tbody>\n",
       "    <tr>\n",
       "      <th>0</th>\n",
       "      <td>443</td>\n",
       "    </tr>\n",
       "    <tr>\n",
       "      <th>1</th>\n",
       "      <td>57</td>\n",
       "    </tr>\n",
       "  </tbody>\n",
       "</table>\n",
       "</div>"
      ],
      "text/plain": [
       "   heart_disease\n",
       "0            443\n",
       "1             57"
      ]
     },
     "metadata": {},
     "output_type": "display_data"
    },
    {
     "data": {
      "text/html": [
       "<div>\n",
       "<style scoped>\n",
       "    .dataframe tbody tr th:only-of-type {\n",
       "        vertical-align: middle;\n",
       "    }\n",
       "\n",
       "    .dataframe tbody tr th {\n",
       "        vertical-align: top;\n",
       "    }\n",
       "\n",
       "    .dataframe thead th {\n",
       "        text-align: right;\n",
       "    }\n",
       "</style>\n",
       "<table border=\"1\" class=\"dataframe\">\n",
       "  <thead>\n",
       "    <tr style=\"text-align: right;\">\n",
       "      <th></th>\n",
       "      <th>ever_married</th>\n",
       "    </tr>\n",
       "  </thead>\n",
       "  <tbody>\n",
       "    <tr>\n",
       "      <th>Yes</th>\n",
       "      <td>402</td>\n",
       "    </tr>\n",
       "    <tr>\n",
       "      <th>No</th>\n",
       "      <td>98</td>\n",
       "    </tr>\n",
       "  </tbody>\n",
       "</table>\n",
       "</div>"
      ],
      "text/plain": [
       "     ever_married\n",
       "Yes           402\n",
       "No             98"
      ]
     },
     "metadata": {},
     "output_type": "display_data"
    },
    {
     "data": {
      "text/html": [
       "<div>\n",
       "<style scoped>\n",
       "    .dataframe tbody tr th:only-of-type {\n",
       "        vertical-align: middle;\n",
       "    }\n",
       "\n",
       "    .dataframe tbody tr th {\n",
       "        vertical-align: top;\n",
       "    }\n",
       "\n",
       "    .dataframe thead th {\n",
       "        text-align: right;\n",
       "    }\n",
       "</style>\n",
       "<table border=\"1\" class=\"dataframe\">\n",
       "  <thead>\n",
       "    <tr style=\"text-align: right;\">\n",
       "      <th></th>\n",
       "      <th>work_type</th>\n",
       "    </tr>\n",
       "  </thead>\n",
       "  <tbody>\n",
       "    <tr>\n",
       "      <th>Private</th>\n",
       "      <td>312</td>\n",
       "    </tr>\n",
       "    <tr>\n",
       "      <th>Self-employed</th>\n",
       "      <td>112</td>\n",
       "    </tr>\n",
       "    <tr>\n",
       "      <th>Govt_job</th>\n",
       "      <td>72</td>\n",
       "    </tr>\n",
       "    <tr>\n",
       "      <th>Never_worked</th>\n",
       "      <td>2</td>\n",
       "    </tr>\n",
       "    <tr>\n",
       "      <th>children</th>\n",
       "      <td>2</td>\n",
       "    </tr>\n",
       "  </tbody>\n",
       "</table>\n",
       "</div>"
      ],
      "text/plain": [
       "               work_type\n",
       "Private              312\n",
       "Self-employed        112\n",
       "Govt_job              72\n",
       "Never_worked           2\n",
       "children               2"
      ]
     },
     "metadata": {},
     "output_type": "display_data"
    },
    {
     "data": {
      "text/html": [
       "<div>\n",
       "<style scoped>\n",
       "    .dataframe tbody tr th:only-of-type {\n",
       "        vertical-align: middle;\n",
       "    }\n",
       "\n",
       "    .dataframe tbody tr th {\n",
       "        vertical-align: top;\n",
       "    }\n",
       "\n",
       "    .dataframe thead th {\n",
       "        text-align: right;\n",
       "    }\n",
       "</style>\n",
       "<table border=\"1\" class=\"dataframe\">\n",
       "  <thead>\n",
       "    <tr style=\"text-align: right;\">\n",
       "      <th></th>\n",
       "      <th>Residence_type</th>\n",
       "    </tr>\n",
       "  </thead>\n",
       "  <tbody>\n",
       "    <tr>\n",
       "      <th>Urban</th>\n",
       "      <td>256</td>\n",
       "    </tr>\n",
       "    <tr>\n",
       "      <th>Rural</th>\n",
       "      <td>244</td>\n",
       "    </tr>\n",
       "  </tbody>\n",
       "</table>\n",
       "</div>"
      ],
      "text/plain": [
       "       Residence_type\n",
       "Urban             256\n",
       "Rural             244"
      ]
     },
     "metadata": {},
     "output_type": "display_data"
    },
    {
     "data": {
      "text/html": [
       "<div>\n",
       "<style scoped>\n",
       "    .dataframe tbody tr th:only-of-type {\n",
       "        vertical-align: middle;\n",
       "    }\n",
       "\n",
       "    .dataframe tbody tr th {\n",
       "        vertical-align: top;\n",
       "    }\n",
       "\n",
       "    .dataframe thead th {\n",
       "        text-align: right;\n",
       "    }\n",
       "</style>\n",
       "<table border=\"1\" class=\"dataframe\">\n",
       "  <thead>\n",
       "    <tr style=\"text-align: right;\">\n",
       "      <th></th>\n",
       "      <th>smoking_status</th>\n",
       "    </tr>\n",
       "  </thead>\n",
       "  <tbody>\n",
       "    <tr>\n",
       "      <th>never smoked</th>\n",
       "      <td>189</td>\n",
       "    </tr>\n",
       "    <tr>\n",
       "      <th>formerly smoked</th>\n",
       "      <td>122</td>\n",
       "    </tr>\n",
       "    <tr>\n",
       "      <th>Unknown</th>\n",
       "      <td>113</td>\n",
       "    </tr>\n",
       "    <tr>\n",
       "      <th>smokes</th>\n",
       "      <td>76</td>\n",
       "    </tr>\n",
       "  </tbody>\n",
       "</table>\n",
       "</div>"
      ],
      "text/plain": [
       "                 smoking_status\n",
       "never smoked                189\n",
       "formerly smoked             122\n",
       "Unknown                     113\n",
       "smokes                       76"
      ]
     },
     "metadata": {},
     "output_type": "display_data"
    },
    {
     "data": {
      "text/html": [
       "<div>\n",
       "<style scoped>\n",
       "    .dataframe tbody tr th:only-of-type {\n",
       "        vertical-align: middle;\n",
       "    }\n",
       "\n",
       "    .dataframe tbody tr th {\n",
       "        vertical-align: top;\n",
       "    }\n",
       "\n",
       "    .dataframe thead th {\n",
       "        text-align: right;\n",
       "    }\n",
       "</style>\n",
       "<table border=\"1\" class=\"dataframe\">\n",
       "  <thead>\n",
       "    <tr style=\"text-align: right;\">\n",
       "      <th></th>\n",
       "      <th>stroke</th>\n",
       "    </tr>\n",
       "  </thead>\n",
       "  <tbody>\n",
       "    <tr>\n",
       "      <th>0</th>\n",
       "      <td>251</td>\n",
       "    </tr>\n",
       "    <tr>\n",
       "      <th>1</th>\n",
       "      <td>249</td>\n",
       "    </tr>\n",
       "  </tbody>\n",
       "</table>\n",
       "</div>"
      ],
      "text/plain": [
       "   stroke\n",
       "0     251\n",
       "1     249"
      ]
     },
     "metadata": {},
     "output_type": "display_data"
    }
   ],
   "source": [
    "for column in qualitative:\n",
    "    display(data[column].value_counts(normalize=False).to_frame())"
   ]
  },
  {
   "cell_type": "code",
   "execution_count": 9,
   "id": "6f2a2915",
   "metadata": {},
   "outputs": [],
   "source": [
    "data['gender'] = data['gender'].apply(lambda x:1 if x == 'Female' else 0)\n",
    "\n",
    "data['ever_married'] = data['ever_married'].apply(lambda x:1 if x=='Yes' else 0)\n",
    "\n",
    "data['Residence_type'] = data['Residence_type'].apply(lambda x:1 if x=='Urban' else 0)\n",
    "\n",
    "data['work_type_private'] = data['work_type'].apply(lambda x:1 if x=='Private' else 0)\n",
    "data['work_type_govt_job'] = data['work_type'].apply(lambda x:1 if x=='Govt_job' else 0)\n",
    "data['work_type_self_emp'] = data['work_type'].apply(lambda x:1 if x=='Self-employed' else 0)\n",
    "\n",
    "data['smoking_status_never'] = data['smoking_status'].apply(lambda x:1 if x=='never smoked' or x=='Unknown' else 0)\n",
    "data['smoking_status_formerly'] = data['smoking_status'].apply(lambda x:1 if x=='formerly smoked' else 0)\n",
    "data['smoking_status_smokes'] = data['smoking_status'].apply(lambda x:1 if x=='smokes' else 0)\n",
    "\n",
    "\n",
    "data.rename({'gender':'gender_female', 'Residence_type':'Residence_type_urban'}, axis=1, inplace=True)\n",
    "data.drop(['work_type', 'smoking_status', 'id'], axis=1, inplace=True)\n",
    "\n",
    "qualitative = ['gender_female', 'hypertension', 'heart_disease', 'ever_married', \n",
    "               'work_type_private', 'work_type_govt_job', 'work_type_self_emp', \n",
    "               'Residence_type_urban', 'smoking_status_never',\n",
    "               'smoking_status_formerly','smoking_status_smokes', 'stroke']"
   ]
  },
  {
   "cell_type": "code",
   "execution_count": 10,
   "id": "aa2aac0d",
   "metadata": {},
   "outputs": [],
   "source": [
    "q1 = data['bmi'].quantile(0.25)\n",
    "q3 = data['bmi'].quantile(0.75)\n",
    "\n",
    "IQR = q3 - q1\n",
    "\n",
    "limite_superior = q3 + 1.25*IQR\n",
    "limite_inferior = q1 - 1.25*IQR\n",
    "\n",
    "data['bmi'] = data['bmi'].apply(lambda x:limite_superior if x>limite_superior else x)\n",
    "data['bmi'] = data['bmi'].apply(lambda x:limite_inferior if x<limite_inferior else x)"
   ]
  },
  {
   "cell_type": "code",
   "execution_count": 11,
   "id": "94cfa54a",
   "metadata": {},
   "outputs": [
    {
     "data": {
      "image/png": "[encoded data removed]",
      "text/plain": [
       "<Figure size 1008x288 with 3 Axes>"
      ]
     },
     "metadata": {
      "needs_background": "light"
     },
     "output_type": "display_data"
    }
   ],
   "source": [
    "fig, ax = plt.subplots(1, 3, figsize=(14,4))\n",
    "\n",
    "i = 0\n",
    "\n",
    "for column in quantitative:\n",
    "    ax[i].set_title(column)\n",
    "    data[column].plot(kind='hist', ax=ax[i])\n",
    "    i += 1"
   ]
  },
  {
   "cell_type": "code",
   "execution_count": 21,
   "id": "8fafb4fe",
   "metadata": {
    "scrolled": false
   },
   "outputs": [
    {
     "data": {
      "image/png": "[encoded data removed]",
      "text/plain": [
       "<Figure size 1008x288 with 3 Axes>"
      ]
     },
     "metadata": {
      "needs_background": "light"
     },
     "output_type": "display_data"
    }
   ],
   "source": [
    "fig, ax = plt.subplots(1, 3, figsize=(14,4))\n",
    "\n",
    "i = 0\n",
    "\n",
    "for column in quantitative:\n",
    "    sns.boxplot(data=data, x=column, ax=ax[i])\n",
    "    i += 1"
   ]
  },
  {
   "cell_type": "code",
   "execution_count": 13,
   "id": "1de1faeb",
   "metadata": {},
   "outputs": [
    {
     "name": "stdout",
     "output_type": "stream",
     "text": [
      "ShapiroResult(statistic=0.9335173964500427, pvalue=4.014326983889718e-14)\n",
      "ShapiroResult(statistic=0.838842511177063, pvalue=4.0632021466109493e-22)\n",
      "ShapiroResult(statistic=nan, pvalue=1.0)\n"
     ]
    }
   ],
   "source": [
    "for column in quantitative:\n",
    "    print(shapiro(data[column]))"
   ]
  },
  {
   "cell_type": "code",
   "execution_count": 14,
   "id": "b8064214",
   "metadata": {},
   "outputs": [],
   "source": [
    "scaler = MinMaxScaler()\n",
    "\n",
    "data[quantitative] = scaler.fit_transform(data[quantitative])"
   ]
  },
  {
   "cell_type": "code",
   "execution_count": 15,
   "id": "f8cbd72f",
   "metadata": {},
   "outputs": [],
   "source": [
    "median = data['bmi'].median()\n",
    "data['bmi'] = data['bmi'].replace(np.nan, median)\n",
    "\n",
    "# mean = data['bmi'].mean()\n",
    "# data['bmi'] = data['bmi'].replace(np.nan, mean)\n",
    "\n",
    "# data.dropna(how='any', axis=0, inplace=True)\n",
    "\n",
    "# data.dropna(how='any', axis=1, inplace=True)"
   ]
  },
  {
   "cell_type": "code",
   "execution_count": 16,
   "id": "8cde3846",
   "metadata": {},
   "outputs": [
    {
     "data": {
      "text/html": [
       "<div>\n",
       "<style scoped>\n",
       "    .dataframe tbody tr th:only-of-type {\n",
       "        vertical-align: middle;\n",
       "    }\n",
       "\n",
       "    .dataframe tbody tr th {\n",
       "        vertical-align: top;\n",
       "    }\n",
       "\n",
       "    .dataframe thead th {\n",
       "        text-align: right;\n",
       "    }\n",
       "</style>\n",
       "<table border=\"1\" class=\"dataframe\">\n",
       "  <thead>\n",
       "    <tr style=\"text-align: right;\">\n",
       "      <th></th>\n",
       "      <th>stroke</th>\n",
       "    </tr>\n",
       "  </thead>\n",
       "  <tbody>\n",
       "    <tr>\n",
       "      <th>smoking_status_never</th>\n",
       "      <td>-0.109565</td>\n",
       "    </tr>\n",
       "    <tr>\n",
       "      <th>work_type_private</th>\n",
       "      <td>-0.052653</td>\n",
       "    </tr>\n",
       "    <tr>\n",
       "      <th>gender_female</th>\n",
       "      <td>-0.035838</td>\n",
       "    </tr>\n",
       "    <tr>\n",
       "      <th>work_type_govt_job</th>\n",
       "      <td>-0.032539</td>\n",
       "    </tr>\n",
       "    <tr>\n",
       "      <th>bmi</th>\n",
       "      <td>0.009068</td>\n",
       "    </tr>\n",
       "    <tr>\n",
       "      <th>smoking_status_smokes</th>\n",
       "      <td>0.046260</td>\n",
       "    </tr>\n",
       "    <tr>\n",
       "      <th>Residence_type_urban</th>\n",
       "      <td>0.060114</td>\n",
       "    </tr>\n",
       "    <tr>\n",
       "      <th>smoking_status_formerly</th>\n",
       "      <td>0.086093</td>\n",
       "    </tr>\n",
       "    <tr>\n",
       "      <th>work_type_self_emp</th>\n",
       "      <td>0.088497</td>\n",
       "    </tr>\n",
       "    <tr>\n",
       "      <th>ever_married</th>\n",
       "      <td>0.199554</td>\n",
       "    </tr>\n",
       "    <tr>\n",
       "      <th>hypertension</th>\n",
       "      <td>0.214409</td>\n",
       "    </tr>\n",
       "    <tr>\n",
       "      <th>avg_glucose_level</th>\n",
       "      <td>0.230323</td>\n",
       "    </tr>\n",
       "    <tr>\n",
       "      <th>heart_disease</th>\n",
       "      <td>0.234279</td>\n",
       "    </tr>\n",
       "    <tr>\n",
       "      <th>age</th>\n",
       "      <td>0.514490</td>\n",
       "    </tr>\n",
       "    <tr>\n",
       "      <th>stroke</th>\n",
       "      <td>1.000000</td>\n",
       "    </tr>\n",
       "  </tbody>\n",
       "</table>\n",
       "</div>"
      ],
      "text/plain": [
       "                           stroke\n",
       "smoking_status_never    -0.109565\n",
       "work_type_private       -0.052653\n",
       "gender_female           -0.035838\n",
       "work_type_govt_job      -0.032539\n",
       "bmi                      0.009068\n",
       "smoking_status_smokes    0.046260\n",
       "Residence_type_urban     0.060114\n",
       "smoking_status_formerly  0.086093\n",
       "work_type_self_emp       0.088497\n",
       "ever_married             0.199554\n",
       "hypertension             0.214409\n",
       "avg_glucose_level        0.230323\n",
       "heart_disease            0.234279\n",
       "age                      0.514490\n",
       "stroke                   1.000000"
      ]
     },
     "execution_count": 16,
     "metadata": {},
     "output_type": "execute_result"
    }
   ],
   "source": [
    "data.corr()['stroke'].sort_values().to_frame()"
   ]
  },
  {
   "cell_type": "code",
   "execution_count": 17,
   "id": "368cddbd",
   "metadata": {},
   "outputs": [],
   "source": [
    "X = data.drop('stroke', axis=1)\n",
    "y = data['stroke']"
   ]
  },
  {
   "cell_type": "code",
   "execution_count": 18,
   "id": "3264d308",
   "metadata": {},
   "outputs": [
    {
     "name": "stdout",
     "output_type": "stream",
     "text": [
      "Accuracy score for train set: 0.7470 +- 0.0097\n",
      "Accuracy score for test set: 0.7340 +- 0.0463\n",
      "\n",
      "Precision for positive cases: 76.14% +- 8.35%\n",
      "Precision for negative cases: 70.88% +- 7.70%\n"
     ]
    }
   ],
   "source": [
    "kf = KFold(n_splits=5, shuffle=True, random_state=7)\n",
    "model = LogisticRegression(random_state=7)\n",
    "\n",
    "acs_train = []\n",
    "acs_test = []\n",
    "\n",
    "acertos_negativos = []\n",
    "acertos_positivos = []\n",
    "\n",
    "for train_index, test_index in kf.split(X):\n",
    "    \n",
    "    X_train, y_train = X.iloc[train_index], y.iloc[train_index]\n",
    "    X_test, y_test = X.iloc[test_index], y.iloc[test_index]\n",
    "    \n",
    "    model.fit(X_train, y_train)\n",
    "\n",
    "    accuracy_train = accuracy_score(y_train, model.predict(X_train))\n",
    "    acs_train.append(accuracy_train)\n",
    "    \n",
    "    accuracy_test = accuracy_score(y_test, model.predict(X_test))\n",
    "    acs_test.append(accuracy_test)\n",
    "    \n",
    "    cm = confusion_matrix(y_test, model.predict(X_test))\n",
    "\n",
    "    acertos_negativo = cm[0][0] / (cm[0][0] + cm[0][1])\n",
    "    acertos_negativos.append(acertos_negativo)\n",
    "    \n",
    "    acertos_positivo = cm[1][1] / (cm[1][0] + cm[1][1])\n",
    "    acertos_positivos.append(acertos_positivo)\n",
    "    \n",
    "\n",
    "acs_train = np.array(acs_train)\n",
    "acs_test = np.array(acs_test)\n",
    "acertos_negativos = np.array(acertos_negativos)\n",
    "acertos_positivos = np.array(acertos_positivos)\n",
    "\n",
    "print('Accuracy score for train set: %.4f +- %.4f' % (acs_train.mean(), acs_train.std()))\n",
    "print('Accuracy score for test set: %.4f +- %.4f' % (acs_test.mean(), acs_test.std()))\n",
    "\n",
    "print('\\nPrecision for positive cases: %.2f%% +- %.2f%%' % (acertos_positivos.mean()*100, acertos_positivos.std()*100))\n",
    "print('Precision for negative cases: %.2f%% +- %.2f%%' % (acertos_negativos.mean()*100, acertos_negativos.std()*100))"
   ]
  },
  {
   "cell_type": "code",
   "execution_count": 19,
   "id": "6c616e6a",
   "metadata": {},
   "outputs": [
    {
     "name": "stdout",
     "output_type": "stream",
     "text": [
      "Accuracy score for train set: 1.0000 +- 0.0000\n",
      "Accuracy score for test set: 0.7180 +- 0.0264\n",
      "\n",
      "Precision for positive cases: 75.87% +- 4.77%\n",
      "Precision for negative cases: 67.81% +- 6.66%\n"
     ]
    }
   ],
   "source": [
    "kf = KFold(n_splits=5, shuffle=True, random_state=7)\n",
    "model = RandomForestClassifier(random_state=7)\n",
    "\n",
    "acs_train = []\n",
    "acs_test = []\n",
    "\n",
    "acertos_negativos = []\n",
    "acertos_positivos = []\n",
    "\n",
    "for train_index, test_index in kf.split(X):\n",
    "    \n",
    "    X_train, y_train = X.iloc[train_index], y.iloc[train_index]\n",
    "    X_test, y_test = X.iloc[test_index], y.iloc[test_index]\n",
    "    \n",
    "    model.fit(X_train, y_train)\n",
    "\n",
    "    accuracy_train = accuracy_score(y_train, model.predict(X_train))\n",
    "    acs_train.append(accuracy_train)\n",
    "    \n",
    "    accuracy_test = accuracy_score(y_test, model.predict(X_test))\n",
    "    acs_test.append(accuracy_test)\n",
    "    \n",
    "    cm = confusion_matrix(y_test, model.predict(X_test))\n",
    "\n",
    "    acertos_negativo = cm[0][0] / (cm[0][0] + cm[0][1])\n",
    "    acertos_negativos.append(acertos_negativo)\n",
    "    \n",
    "    acertos_positivo = cm[1][1] / (cm[1][0] + cm[1][1])\n",
    "    acertos_positivos.append(acertos_positivo)\n",
    "    \n",
    "\n",
    "acs_train = np.array(acs_train)\n",
    "acs_test = np.array(acs_test)\n",
    "acertos_negativos = np.array(acertos_negativos)\n",
    "acertos_positivos = np.array(acertos_positivos)\n",
    "\n",
    "print('Accuracy score for train set: %.4f +- %.4f' % (acs_train.mean(), acs_train.std()))\n",
    "print('Accuracy score for test set: %.4f +- %.4f' % (acs_test.mean(), acs_test.std()))\n",
    "\n",
    "print('\\nPrecision for positive cases: %.2f%% +- %.2f%%' % (acertos_positivos.mean()*100, acertos_positivos.std()*100))\n",
    "print('Precision for negative cases: %.2f%% +- %.2f%%' % (acertos_negativos.mean()*100, acertos_negativos.std()*100))"
   ]
  },
  {
   "cell_type": "code",
   "execution_count": null,
   "id": "2d68401c",
   "metadata": {},
   "outputs": [],
   "source": []
  }
 ],
 "metadata": {
  "kernelspec": {
   "display_name": "Python 3",
   "language": "python",
   "name": "python3"
  },
  "language_info": {
   "codemirror_mode": {
    "name": "ipython",
    "version": 3
   },
   "file_extension": ".py",
   "mimetype": "text/x-python",
   "name": "python",
   "nbconvert_exporter": "python",
   "pygments_lexer": "ipython3",
   "version": "3.7.9"
  }
 },
 "nbformat": 4,
 "nbformat_minor": 5
}
